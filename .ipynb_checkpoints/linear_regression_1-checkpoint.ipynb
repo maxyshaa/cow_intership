{
 "cells": [
  {
   "cell_type": "code",
   "execution_count": 27,
   "metadata": {},
   "outputs": [],
   "source": [
    "#import libraries\n",
    "import numpy as np\n",
    "import matplotlib.pyplot as plt\n",
    "import pandas as pd\n",
    "from sklearn.datasets import load_boston"
   ]
  },
  {
   "cell_type": "code",
   "execution_count": 29,
   "metadata": {},
   "outputs": [],
   "source": [
    "# define our cost function\n",
    "\n",
    "def compute_cost(X, y, params):\n",
    "    n_samples = len(y)\n",
    "    h = X @ params\n",
    "    return (1/(2*n_samples))*np.sum((h-y)**2)"
   ]
  },
  {
   "cell_type": "code",
   "execution_count": 41,
   "metadata": {},
   "outputs": [],
   "source": [
    "def gradient_descent(X, y, params, learning_rate, n_iters):\n",
    "    n_samples = len(y)\n",
    "    J_history = np.zeros((n_iters,1))\n",
    "    print('params shape ', (X.T).shape)\n",
    "\n",
    "    for i in range(n_iters):\n",
    "        params = params - (learning_rate/n_samples) * X.T @ (X @ params - y) \n",
    "        J_history[i] = compute_cost(X, y, params)\n",
    "\n",
    "    return J_history, params"
   ]
  },
  {
   "cell_type": "code",
   "execution_count": 38,
   "metadata": {},
   "outputs": [],
   "source": [
    "def linear_regression(X, y, n_iter=1500, lr=0.05):\n",
    "    # lr= learning_rate\n",
    "    \n",
    "    n_samples = len(y)\n",
    "    \n",
    "    mu = np.mean(X, 0)\n",
    "    sigma = np.std(X, 0)\n",
    "    X = (X-mu) / sigma\n",
    "    \n",
    "    X = np.hstack((np.ones((n_samples,1)),X))\n",
    "    n_features = np.size(X,1)\n",
    "    params = np.zeros((n_features,1))\n",
    "    \n",
    "    initial_cost = compute_cost(X, y, params)\n",
    "    print(\"Initial cost is: \", initial_cost, \"\\n\")\n",
    "    (J_history, optimal_params) = gradient_descent(X, y, params, learning_rate, n_iters)\n",
    "    print(\"Optimal parameters are: \\n\", optimal_params, \"\\n\")\n",
    "    print(\"Final cost is: \", J_history[-1])\n",
    "    plt.plot(range(len(J_history)), J_history, 'r')\n",
    "    plt.title(\"Convergence Graph of Cost Function\")\n",
    "    plt.xlabel(\"Number of Iterations\")\n",
    "    plt.ylabel(\"Cost\")\n",
    "    plt.show()"
   ]
  },
  {
   "cell_type": "code",
   "execution_count": null,
   "metadata": {},
   "outputs": [],
   "source": [
    "dataset = load_boston()\n",
    "X = dataset.data\n",
    "y = dataset.target[:,np.newaxis]\n",
    "\n",
    "linear_regression(X, y)"
   ]
  }
 ],
 "metadata": {
  "kernelspec": {
   "display_name": "Python 3",
   "language": "python",
   "name": "python3"
  },
  "language_info": {
   "codemirror_mode": {
    "name": "ipython",
    "version": 3
   },
   "file_extension": ".py",
   "mimetype": "text/x-python",
   "name": "python",
   "nbconvert_exporter": "python",
   "pygments_lexer": "ipython3",
   "version": "3.7.3"
  }
 },
 "nbformat": 4,
 "nbformat_minor": 2
}
